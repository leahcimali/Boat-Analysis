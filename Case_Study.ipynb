{
 "cells": [
  {
   "cell_type": "code",
   "execution_count": 9,
   "metadata": {
    "jupyter": {
     "source_hidden": true
    },
    "slideshow": {
     "slide_type": "skip"
    }
   },
   "outputs": [],
   "source": [
    "import numpy as np\n",
    "import matplotlib.pyplot as plt\n",
    "import seaborn as sns\n",
    "import pandas as pd\n",
    "plt.style.use('ggplot')\n"
   ]
  },
  {
   "cell_type": "code",
   "execution_count": 10,
   "metadata": {
    "jupyter": {
     "source_hidden": true
    },
    "slideshow": {
     "slide_type": "skip"
    }
   },
   "outputs": [],
   "source": [
    "%store -r year_clean "
   ]
  },
  {
   "cell_type": "markdown",
   "metadata": {
    "slideshow": {
     "slide_type": "slide"
    }
   },
   "source": [
    "# Company Nearly New Nautical Sales\n",
    "### Michael Ben Ali\n",
    "### Data Analyst\n",
    "#### Marketing Department\n",
    "#### Thursday 28th February 2022 "
   ]
  },
  {
   "cell_type": "markdown",
   "metadata": {
    "slideshow": {
     "slide_type": "slide"
    },
    "tags": []
   },
   "source": [
    "# Introduction : Nearly New Nautical Sales\n",
    "## Objective : Boosting our website views by next year!\n",
    "\n",
    "We have been provided plenty of data from our website with the views from the past 7 days (around 10,000 boats). Our objective is to look at the trend of the most view boats to improve the average number of views to 75% more this year. With those data, we are gonna to notify boat sellers on our website and advertise so we can improve and stay at the top of the market trend. \n",
    "\n",
    "Let's have a quick look at the data, we were provided so we can eventually make some assumptions : \n",
    "\n",
    "Here data from the top 10 boats in terms of views: "
   ]
  },
  {
   "cell_type": "code",
   "execution_count": 11,
   "metadata": {
    "slideshow": {
     "slide_type": "subslide"
    },
    "tags": []
   },
   "outputs": [
    {
     "data": {
      "text/html": [
       "<div>\n",
       "<style scoped>\n",
       "    .dataframe tbody tr th:only-of-type {\n",
       "        vertical-align: middle;\n",
       "    }\n",
       "\n",
       "    .dataframe tbody tr th {\n",
       "        vertical-align: top;\n",
       "    }\n",
       "\n",
       "    .dataframe thead th {\n",
       "        text-align: right;\n",
       "    }\n",
       "</style>\n",
       "<table border=\"1\" class=\"dataframe\">\n",
       "  <thead>\n",
       "    <tr style=\"text-align: right;\">\n",
       "      <th></th>\n",
       "      <th>Boat Type</th>\n",
       "      <th>Manufacturer</th>\n",
       "      <th>Year Built</th>\n",
       "      <th>Length</th>\n",
       "      <th>Width</th>\n",
       "      <th>Material</th>\n",
       "      <th>Location</th>\n",
       "      <th>Number of views last 7 days</th>\n",
       "      <th>Price Euro (1000K)</th>\n",
       "      <th>Used or New</th>\n",
       "      <th>Motor Type</th>\n",
       "      <th>Decade</th>\n",
       "    </tr>\n",
       "  </thead>\n",
       "  <tbody>\n",
       "    <tr>\n",
       "      <th>9580</th>\n",
       "      <td>Motor Yacht</td>\n",
       "      <td>Bayliner power boats</td>\n",
       "      <td>1992</td>\n",
       "      <td>7.70</td>\n",
       "      <td>2.46</td>\n",
       "      <td>Plastic</td>\n",
       "      <td>Switzerland</td>\n",
       "      <td>3263</td>\n",
       "      <td>14.30400</td>\n",
       "      <td>Used</td>\n",
       "      <td>Unleaded</td>\n",
       "      <td>1990</td>\n",
       "    </tr>\n",
       "    <tr>\n",
       "      <th>8723</th>\n",
       "      <td>Hardtop</td>\n",
       "      <td>Princess power boats</td>\n",
       "      <td>1979</td>\n",
       "      <td>11.12</td>\n",
       "      <td>3.88</td>\n",
       "      <td>GRP</td>\n",
       "      <td>Switzerland</td>\n",
       "      <td>2432</td>\n",
       "      <td>33.60000</td>\n",
       "      <td>Used</td>\n",
       "      <td>Diesel</td>\n",
       "      <td>1970</td>\n",
       "    </tr>\n",
       "    <tr>\n",
       "      <th>6211</th>\n",
       "      <td>Bowrider,Motor Yacht,Sport Boat</td>\n",
       "      <td>Windy power boats</td>\n",
       "      <td>2002</td>\n",
       "      <td>12.35</td>\n",
       "      <td>3.48</td>\n",
       "      <td>GRP</td>\n",
       "      <td>Switzerland</td>\n",
       "      <td>2261</td>\n",
       "      <td>120.86400</td>\n",
       "      <td>Used</td>\n",
       "      <td>Diesel</td>\n",
       "      <td>2000</td>\n",
       "    </tr>\n",
       "    <tr>\n",
       "      <th>3700</th>\n",
       "      <td>Hardtop</td>\n",
       "      <td>Pershing power boats</td>\n",
       "      <td>2009</td>\n",
       "      <td>20.30</td>\n",
       "      <td>5.20</td>\n",
       "      <td>GRP</td>\n",
       "      <td>Germany</td>\n",
       "      <td>2154</td>\n",
       "      <td>949.00000</td>\n",
       "      <td>Used</td>\n",
       "      <td>Diesel</td>\n",
       "      <td>2000</td>\n",
       "    </tr>\n",
       "    <tr>\n",
       "      <th>308</th>\n",
       "      <td>Sport Boat</td>\n",
       "      <td>Sea Ray power boats</td>\n",
       "      <td>1993</td>\n",
       "      <td>6.14</td>\n",
       "      <td>2.34</td>\n",
       "      <td>Plastic</td>\n",
       "      <td>Switzerland</td>\n",
       "      <td>2026</td>\n",
       "      <td>19.10400</td>\n",
       "      <td>Used</td>\n",
       "      <td>Unleaded</td>\n",
       "      <td>1990</td>\n",
       "    </tr>\n",
       "    <tr>\n",
       "      <th>894</th>\n",
       "      <td>Cabin Boat</td>\n",
       "      <td>Viper power boats</td>\n",
       "      <td>2014</td>\n",
       "      <td>6.65</td>\n",
       "      <td>2.30</td>\n",
       "      <td>GRP</td>\n",
       "      <td>Switzerland</td>\n",
       "      <td>1970</td>\n",
       "      <td>46.56000</td>\n",
       "      <td>Used</td>\n",
       "      <td>Unleaded</td>\n",
       "      <td>2010</td>\n",
       "    </tr>\n",
       "    <tr>\n",
       "      <th>9878</th>\n",
       "      <td>Sport Boat,Wakeboard/Wakesurf,Water ski</td>\n",
       "      <td>Tullio Abbate power boats</td>\n",
       "      <td>1980</td>\n",
       "      <td>6.00</td>\n",
       "      <td>2.10</td>\n",
       "      <td>GRP</td>\n",
       "      <td>Switzerland</td>\n",
       "      <td>1917</td>\n",
       "      <td>4.79904</td>\n",
       "      <td>Used</td>\n",
       "      <td>Unleaded</td>\n",
       "      <td>1980</td>\n",
       "    </tr>\n",
       "    <tr>\n",
       "      <th>8684</th>\n",
       "      <td>Sport Boat</td>\n",
       "      <td>Correct Craft power boats</td>\n",
       "      <td>2005</td>\n",
       "      <td>6.40</td>\n",
       "      <td>2.31</td>\n",
       "      <td>GRP</td>\n",
       "      <td>Switzerland</td>\n",
       "      <td>1834</td>\n",
       "      <td>34.56000</td>\n",
       "      <td>Used</td>\n",
       "      <td>Unleaded</td>\n",
       "      <td>2000</td>\n",
       "    </tr>\n",
       "    <tr>\n",
       "      <th>9843</th>\n",
       "      <td>Sport Boat</td>\n",
       "      <td>Baha power boats</td>\n",
       "      <td>1995</td>\n",
       "      <td>6.80</td>\n",
       "      <td>2.38</td>\n",
       "      <td>GRP</td>\n",
       "      <td>Switzerland</td>\n",
       "      <td>1831</td>\n",
       "      <td>6.24000</td>\n",
       "      <td>Used</td>\n",
       "      <td>Unleaded</td>\n",
       "      <td>1990</td>\n",
       "    </tr>\n",
       "    <tr>\n",
       "      <th>35</th>\n",
       "      <td>Cabin Boat</td>\n",
       "      <td>Draco power boats</td>\n",
       "      <td>1980</td>\n",
       "      <td>6.20</td>\n",
       "      <td>2.45</td>\n",
       "      <td>GRP</td>\n",
       "      <td>Switzerland</td>\n",
       "      <td>1804</td>\n",
       "      <td>3.64800</td>\n",
       "      <td>Used</td>\n",
       "      <td>Unleaded</td>\n",
       "      <td>1980</td>\n",
       "    </tr>\n",
       "  </tbody>\n",
       "</table>\n",
       "</div>"
      ],
      "text/plain": [
       "                                    Boat Type               Manufacturer  \\\n",
       "9580                              Motor Yacht       Bayliner power boats   \n",
       "8723                                  Hardtop       Princess power boats   \n",
       "6211          Bowrider,Motor Yacht,Sport Boat          Windy power boats   \n",
       "3700                                  Hardtop       Pershing power boats   \n",
       "308                                Sport Boat        Sea Ray power boats   \n",
       "894                                Cabin Boat          Viper power boats   \n",
       "9878  Sport Boat,Wakeboard/Wakesurf,Water ski  Tullio Abbate power boats   \n",
       "8684                               Sport Boat  Correct Craft power boats   \n",
       "9843                               Sport Boat           Baha power boats   \n",
       "35                                 Cabin Boat          Draco power boats   \n",
       "\n",
       "      Year Built  Length  Width Material     Location  \\\n",
       "9580        1992    7.70   2.46  Plastic  Switzerland   \n",
       "8723        1979   11.12   3.88      GRP  Switzerland   \n",
       "6211        2002   12.35   3.48      GRP  Switzerland   \n",
       "3700        2009   20.30   5.20      GRP      Germany   \n",
       "308         1993    6.14   2.34  Plastic  Switzerland   \n",
       "894         2014    6.65   2.30      GRP  Switzerland   \n",
       "9878        1980    6.00   2.10      GRP  Switzerland   \n",
       "8684        2005    6.40   2.31      GRP  Switzerland   \n",
       "9843        1995    6.80   2.38      GRP  Switzerland   \n",
       "35          1980    6.20   2.45      GRP  Switzerland   \n",
       "\n",
       "      Number of views last 7 days  Price Euro (1000K) Used or New Motor Type  \\\n",
       "9580                         3263            14.30400        Used   Unleaded   \n",
       "8723                         2432            33.60000        Used     Diesel   \n",
       "6211                         2261           120.86400        Used     Diesel   \n",
       "3700                         2154           949.00000        Used     Diesel   \n",
       "308                          2026            19.10400        Used   Unleaded   \n",
       "894                          1970            46.56000        Used   Unleaded   \n",
       "9878                         1917             4.79904        Used   Unleaded   \n",
       "8684                         1834            34.56000        Used   Unleaded   \n",
       "9843                         1831             6.24000        Used   Unleaded   \n",
       "35                           1804             3.64800        Used   Unleaded   \n",
       "\n",
       "      Decade  \n",
       "9580    1990  \n",
       "8723    1970  \n",
       "6211    2000  \n",
       "3700    2000  \n",
       "308     1990  \n",
       "894     2010  \n",
       "9878    1980  \n",
       "8684    2000  \n",
       "9843    1990  \n",
       "35      1980  "
      ]
     },
     "execution_count": 11,
     "metadata": {},
     "output_type": "execute_result"
    }
   ],
   "source": [
    "df = year_clean\n",
    "df.head(10)"
   ]
  },
  {
   "cell_type": "markdown",
   "metadata": {
    "slideshow": {
     "slide_type": "subslide"
    },
    "tags": []
   },
   "source": [
    "We were ask to respond to some question :\n",
    "\n",
    "1) Is it the most expensive boats that get the most views ? \n",
    "\n",
    "2) Are there common features among the most viewed boats ? \n",
    "Seing the data preview, we will add the following exploration : \n",
    "    - Are used boat more seen than band new one ? \n",
    "    - From which country are the most view boat ? \n",
    "    - Is there a prefered material for most viewed boat ? \n",
    "    - How old are used boat that are more seen ?"
   ]
  },
  {
   "cell_type": "markdown",
   "metadata": {
    "slideshow": {
     "slide_type": "slide"
    }
   },
   "source": [
    "# Are expensive boats the most viewed ? "
   ]
  },
  {
   "cell_type": "code",
   "execution_count": 15,
   "metadata": {
    "jupyter": {
     "source_hidden": true
    },
    "slideshow": {
     "slide_type": "subslide"
    }
   },
   "outputs": [
    {
     "data": {
      "image/png": "[encoded data removed]",
      "text/plain": [
       "<Figure size 432x288 with 1 Axes>"
      ]
     },
     "metadata": {},
     "output_type": "display_data"
    },
    {
     "name": "stdout",
     "output_type": "stream",
     "text": [
      "Here we can easily agree that the most view boat aren't the most expensive ones.\n",
      "After this lets find if there is commun feature between most viewed boat.\n"
     ]
    }
   ],
   "source": [
    "plt.scatter(x = df['Number of views last 7 days'],y = df['Price Euro (1000K)'])\n",
    "plt.title('Price vs views')\n",
    "plt.xlabel('Number of views in last 7 days')\n",
    "plt.ylabel('Price in Euro (1000K)')\n",
    "plt.show()\n",
    "print('''Here we can easily agree that the most view boat aren't the most expensive ones.\n",
    "After this lets find if there is commun feature between most viewed boat.''')"
   ]
  },
  {
   "cell_type": "markdown",
   "metadata": {
    "slideshow": {
     "slide_type": "slide"
    }
   },
   "source": [
    "#  Are used boat more seen than brand new one ? \n"
   ]
  },
  {
   "cell_type": "code",
   "execution_count": 25,
   "metadata": {
    "jupyter": {
     "source_hidden": true
    },
    "slideshow": {
     "slide_type": "skip"
    }
   },
   "outputs": [
    {
     "data": {
      "text/html": [
       "<div>\n",
       "<style scoped>\n",
       "    .dataframe tbody tr th:only-of-type {\n",
       "        vertical-align: middle;\n",
       "    }\n",
       "\n",
       "    .dataframe tbody tr th {\n",
       "        vertical-align: top;\n",
       "    }\n",
       "\n",
       "    .dataframe thead th {\n",
       "        text-align: right;\n",
       "    }\n",
       "</style>\n",
       "<table border=\"1\" class=\"dataframe\">\n",
       "  <thead>\n",
       "    <tr style=\"text-align: right;\">\n",
       "      <th></th>\n",
       "      <th>Number of views last 7 days</th>\n",
       "    </tr>\n",
       "    <tr>\n",
       "      <th>Used or New</th>\n",
       "      <th></th>\n",
       "    </tr>\n",
       "  </thead>\n",
       "  <tbody>\n",
       "    <tr>\n",
       "      <th>New</th>\n",
       "      <td>57813</td>\n",
       "    </tr>\n",
       "    <tr>\n",
       "      <th>Other</th>\n",
       "      <td>10899</td>\n",
       "    </tr>\n",
       "    <tr>\n",
       "      <th>Used</th>\n",
       "      <td>429234</td>\n",
       "    </tr>\n",
       "  </tbody>\n",
       "</table>\n",
       "</div>"
      ],
      "text/plain": [
       "             Number of views last 7 days\n",
       "Used or New                             \n",
       "New                                57813\n",
       "Other                              10899\n",
       "Used                              429234"
      ]
     },
     "execution_count": 25,
     "metadata": {},
     "output_type": "execute_result"
    }
   ],
   "source": [
    "new_old= df[['Used or New','Number of views last 7 days']].groupby('Used or New').sum()\n",
    "new_old"
   ]
  },
  {
   "cell_type": "code",
   "execution_count": 29,
   "metadata": {
    "jupyter": {
     "source_hidden": true
    },
    "slideshow": {
     "slide_type": "subslide"
    }
   },
   "outputs": [
    {
     "name": "stderr",
     "output_type": "stream",
     "text": [
      "/home/michael/anaconda3/lib/python3.7/site-packages/ipykernel_launcher.py:1: MatplotlibDeprecationWarning: Non-1D inputs to pie() are currently squeeze()d, but this behavior is deprecated since 3.1 and will be removed in 3.3; pass a 1D array instead.\n",
      "  \"\"\"Entry point for launching an IPython kernel.\n"
     ]
    },
    {
     "data": {
      "image/png": "[encoded data removed]",
      "text/plain": [
       "<Figure size 432x288 with 1 Axes>"
      ]
     },
     "metadata": {},
     "output_type": "display_data"
    },
    {
     "name": "stdout",
     "output_type": "stream",
     "text": [
      "Here we can clearly see that most views are from used boat.\n"
     ]
    }
   ],
   "source": [
    "plt.pie(new_old,labels=['New (57,813)','Other (10,899)','Used (429,000)'],explode = (0, 0, 0.1))\n",
    "plt.title('Pie chart of number of view for categories Used or New')\n",
    "plt.legend()\n",
    "plt.show()\n",
    "print('Here we can clearly see that most views are from used boat.')"
   ]
  },
  {
   "cell_type": "markdown",
   "metadata": {
    "slideshow": {
     "slide_type": "slide"
    }
   },
   "source": [
    "# From which country are the most view boat ? "
   ]
  },
  {
   "cell_type": "code",
   "execution_count": 42,
   "metadata": {
    "jupyter": {
     "source_hidden": true
    },
    "slideshow": {
     "slide_type": "fragment"
    }
   },
   "outputs": [
    {
     "data": {
      "image/png": "[encoded data removed]",
      "text/plain": [
       "<Figure size 432x288 with 1 Axes>"
      ]
     },
     "metadata": {},
     "output_type": "display_data"
    },
    {
     "name": "stdout",
     "output_type": "stream",
     "text": [
      "Switzerland, Germany, Italy, Netherlands and Croatia are the country with the most views.\n"
     ]
    }
   ],
   "source": [
    "country = df[['Location','Number of views last 7 days']].groupby('Location').sum().sort_values('Number of views last 7 days',ascending= False).head(5)\n",
    "plt.bar(country.index, country['Number of views last 7 days'])\n",
    "plt.title('Number of views for top 5 countries (in term of views)')\n",
    "plt.xlabel('Country')\n",
    "plt.ylabel('Number of views')\n",
    "plt.show()\n",
    "print('Switzerland, Germany, Italy, Netherlands and Croatia are the country with the most views.')"
   ]
  },
  {
   "cell_type": "markdown",
   "metadata": {
    "slideshow": {
     "slide_type": "slide"
    }
   },
   "source": [
    "# Is there a prefered material for most viewed boat ? "
   ]
  },
  {
   "cell_type": "code",
   "execution_count": 30,
   "metadata": {
    "jupyter": {
     "source_hidden": true
    },
    "slideshow": {
     "slide_type": "subslide"
    }
   },
   "outputs": [
    {
     "data": {
      "image/png": "[encoded data removed]",
      "text/plain": [
       "<Figure size 432x288 with 1 Axes>"
      ]
     },
     "metadata": {
      "needs_background": "light"
     },
     "output_type": "display_data"
    },
    {
     "name": "stdout",
     "output_type": "stream",
     "text": [
      "Boats made of GRP are far more viewed than other boat. We have plastic, steel and wood boats which have a far \n",
      "      bigger number of views.\n"
     ]
    }
   ],
   "source": []
  },
  {
   "cell_type": "markdown",
   "metadata": {
    "slideshow": {
     "slide_type": "slide"
    }
   },
   "source": [
    "# How old are used boat that are more seen ?"
   ]
  },
  {
   "cell_type": "code",
   "execution_count": 32,
   "metadata": {
    "jupyter": {
     "source_hidden": true
    },
    "slideshow": {
     "slide_type": "subslide"
    }
   },
   "outputs": [
    {
     "name": "stderr",
     "output_type": "stream",
     "text": [
      "/home/michael/anaconda3/lib/python3.7/site-packages/ipykernel_launcher.py:2: SettingWithCopyWarning: \n",
      "A value is trying to be set on a copy of a slice from a DataFrame.\n",
      "Try using .loc[row_indexer,col_indexer] = value instead\n",
      "\n",
      "See the caveats in the documentation: https://pandas.pydata.org/pandas-docs/stable/user_guide/indexing.html#returning-a-view-versus-a-copy\n",
      "  \n"
     ]
    },
    {
     "data": {
      "image/png": "[encoded data removed]",
      "text/plain": [
       "<Figure size 432x288 with 1 Axes>"
      ]
     },
     "metadata": {
      "needs_background": "light"
     },
     "output_type": "display_data"
    },
    {
     "name": "stdout",
     "output_type": "stream",
     "text": [
      "Here we can see that boats betweed 10 to 40 years old have a big number of views. \n",
      "      Mostly boats between 20 to 30 years old are the one which tend to be the most seen.\n"
     ]
    }
   ],
   "source": []
  },
  {
   "cell_type": "markdown",
   "metadata": {
    "slideshow": {
     "slide_type": "subslide"
    }
   },
   "source": [
    "# Conclusion\n",
    "We have answered the following question : \n",
    "\n",
    "<b> Is it the most expensive boats that get the most views ? </b>\n",
    "\n",
    "Unfortunaly, Not at all.\n",
    "\n",
    "<b>Are used boat more seen than brand new one ?  </b>\n",
    "\n",
    "\n",
    "Of course, as expected from a website that advertise used boat most of them are used.\n",
    "\n",
    "<b>From which country are the most view boat ? </b>\n",
    "\n",
    "Switzerland, Germany and Italy are the top 3 countries with the most views. \n",
    "\n",
    "\n",
    "<b> Is there a prefered material for most viewed boat ? </b>\n",
    "\n",
    "GRP is the far prefered material.\n",
    "\n",
    "\n",
    "<b>How old are used boat that are more seen ? </b>\n",
    "\n",
    "Between 20 and 30 years old.\n",
    "\n"
   ]
  },
  {
   "cell_type": "code",
   "execution_count": null,
   "metadata": {
    "jupyter": {
     "source_hidden": true
    }
   },
   "outputs": [],
   "source": []
  }
 ],
 "metadata": {
  "celltoolbar": "Diaporama",
  "kernelspec": {
   "display_name": "Python 3 (ipykernel)",
   "language": "python",
   "name": "python3"
  },
  "language_info": {
   "codemirror_mode": {
    "name": "ipython",
    "version": 3
   },
   "file_extension": ".py",
   "mimetype": "text/x-python",
   "name": "python",
   "nbconvert_exporter": "python",
   "pygments_lexer": "ipython3",
   "version": "3.7.6"
  }
 },
 "nbformat": 4,
 "nbformat_minor": 5
}
